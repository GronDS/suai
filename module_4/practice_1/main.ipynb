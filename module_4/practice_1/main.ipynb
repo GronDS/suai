{
  "nbformat": 4,
  "nbformat_minor": 0,
  "metadata": {
    "colab": {
      "provenance": [],
      "include_colab_link": true
    },
    "language_info": {
      "codemirror_mode": {
        "name": "ipython",
        "version": 3
      },
      "file_extension": ".py",
      "mimetype": "text/x-python",
      "name": "python",
      "nbconvert_exporter": "python",
      "pygments_lexer": "ipython3",
      "version": "3.6.3"
    },
    "kernelspec": {
      "display_name": "Python 3",
      "language": "python",
      "name": "python3"
    }
  },
  "cells": [
    {
      "cell_type": "markdown",
      "metadata": {
        "id": "view-in-github",
        "colab_type": "text"
      },
      "source": [
        "<a href=\"https://colab.research.google.com/github/GronDS/suai/blob/master/module_4/practice_1/main.ipynb\" target=\"_parent\"><img src=\"https://colab.research.google.com/assets/colab-badge.svg\" alt=\"Open In Colab\"/></a>"
      ]
    },
    {
      "cell_type": "markdown",
      "metadata": {
        "id": "KkW9XLpDgFAF"
      },
      "source": [
        "# Библиотека `NumPy`:\n",
        "\n",
        "## Практическая работа\n",
        "\n",
        "### Описание практической работы\n",
        "\n",
        "В практической работе необходимо решить предложенные задачи по программированию – вписать свой код в ячейки после условий задач вместо комментария `### YOUR CODE HERE ###` в файле *PR#1_numpy.ipynb* и сохранить изменения, используя опцию *Save and Checkpoint* из вкладки меню *File* или кнопку *Save and Checkpoint* на панели инструментов. Ссылку на итоговый файл файл необходимо скинуть преподавателю на проверку."
      ]
    },
    {
      "cell_type": "markdown",
      "metadata": {
        "id": "HWyKtbvPgFAF"
      },
      "source": [
        "Дан массив, содержащий баллы слушателей курса по английскому языку за вступительный экзамен. Слушатели распределены по 15 группам по 10 человек."
      ]
    },
    {
      "cell_type": "code",
      "metadata": {
        "id": "XViQYLNHgFAG"
      },
      "source": [
        "import numpy as np\n",
        "scores = np.array([[20, 40, 56, 80, 0, 5, 25, 27, 74, 1],\n",
        "         [0, 98, 67, 100, 8, 56, 34, 82, 100, 7],\n",
        "         [78, 54, 23, 79, 100, 0, 0, 42, 95, 83],\n",
        "         [51, 50, 47, 23, 100, 94, 25, 48, 38, 77],\n",
        "         [90, 87, 41, 89, 52, 0, 5, 17, 28, 99],\n",
        "         [32, 18, 21, 18, 29, 31, 48, 62, 76, 22],\n",
        "         [6, 0, 65, 78, 43, 22, 38, 88, 94, 100],\n",
        "         [77, 28, 39, 41, 0, 81, 45, 54, 98, 12],\n",
        "         [66, 0, 88, 0, 44, 0, 55, 100, 12, 11],\n",
        "         [17, 70, 86, 96, 56, 23, 32, 49, 70, 80],\n",
        "         [20, 24, 76, 50, 29, 40, 3, 2, 5, 11],\n",
        "         [33, 63, 28, 40, 51, 100, 98, 87, 22, 30],\n",
        "         [16, 54, 78, 12, 25, 35, 10, 19, 67, 0],\n",
        "         [100, 88, 24, 33, 47, 56, 62, 34, 77, 53],\n",
        "         [50, 89, 70, 72, 56, 29, 15, 20, 0, 0]])"
      ],
      "execution_count": null,
      "outputs": []
    },
    {
      "cell_type": "markdown",
      "metadata": {
        "id": "FZyP6_u4gFAI"
      },
      "source": [
        "### Задание 1\n",
        "\n",
        "Посчитать, сколько слушателей получили 0 за вступительный экзамен."
      ]
    },
    {
      "cell_type": "code",
      "metadata": {
        "id": "ny-bpAn_gFAI",
        "outputId": "5e8baf1f-53a0-4401-863c-3178f3e01c0d",
        "colab": {
          "base_uri": "https://localhost:8080/"
        }
      },
      "source": [
        "scores_0 = scores == 0\n",
        "scores_0.sum()"
      ],
      "execution_count": null,
      "outputs": [
        {
          "output_type": "execute_result",
          "data": {
            "text/plain": [
              "13"
            ]
          },
          "metadata": {},
          "execution_count": 5
        }
      ]
    },
    {
      "cell_type": "markdown",
      "metadata": {
        "id": "zqXOMBPCgFAL"
      },
      "source": [
        "### Задание 2\n",
        "\n",
        "Посчитать, сколько слушателей получили балл выше 50."
      ]
    },
    {
      "cell_type": "code",
      "metadata": {
        "id": "mUD76BUigFAL",
        "colab": {
          "base_uri": "https://localhost:8080/"
        },
        "outputId": "64c2b9fe-2d35-44da-e4ea-15245587f822"
      },
      "source": [
        "scores_50 = scores > 50\n",
        "scores_50.sum()"
      ],
      "execution_count": null,
      "outputs": [
        {
          "output_type": "execute_result",
          "data": {
            "text/plain": [
              "64"
            ]
          },
          "metadata": {},
          "execution_count": 6
        }
      ]
    },
    {
      "cell_type": "markdown",
      "metadata": {
        "id": "OocnEIqdgFAN"
      },
      "source": [
        "### Задание 3\n",
        "\n",
        "Посчитать, сколько человек получили балл не ниже 50, но не выше 70."
      ]
    },
    {
      "cell_type": "code",
      "metadata": {
        "id": "RvzMz6lTgFAO",
        "colab": {
          "base_uri": "https://localhost:8080/"
        },
        "outputId": "a055a425-5146-4b7a-9abc-46dee20bc18c"
      },
      "source": [
        "scores_70 = (50 <= scores) & (scores <= 70)\n",
        "scores_70.sum()"
      ],
      "execution_count": null,
      "outputs": [
        {
          "output_type": "execute_result",
          "data": {
            "text/plain": [
              "26"
            ]
          },
          "metadata": {},
          "execution_count": 7
        }
      ]
    },
    {
      "cell_type": "markdown",
      "metadata": {
        "id": "Q9dNpdEBgFAP"
      },
      "source": [
        "### Задание 4\n",
        "\n",
        "Определить, в какой группе средний балл за вступительный экзамен выше."
      ]
    },
    {
      "cell_type": "code",
      "metadata": {
        "id": "Fto_aImFgFAQ",
        "colab": {
          "base_uri": "https://localhost:8080/"
        },
        "outputId": "41fae067-669b-45aa-a23c-be6adefadbc4"
      },
      "source": [
        "scores.mean(axis = 1).max()\n"
      ],
      "execution_count": null,
      "outputs": [
        {
          "output_type": "execute_result",
          "data": {
            "text/plain": [
              "57.9"
            ]
          },
          "metadata": {},
          "execution_count": 63
        }
      ]
    },
    {
      "cell_type": "markdown",
      "metadata": {
        "id": "IjZUz0KkgFAR"
      },
      "source": [
        "### Задание 5\n",
        "\n",
        "Сохранить баллы слушателей выше 0 в массив `nonzero`."
      ]
    },
    {
      "cell_type": "code",
      "metadata": {
        "id": "PRViY--agFAT",
        "colab": {
          "base_uri": "https://localhost:8080/"
        },
        "outputId": "dbdcb7e7-419e-48d8-fc6c-88dd94fd793e"
      },
      "source": [
        "nonzero = scores[scores != 0]\n",
        "nonzero"
      ],
      "execution_count": null,
      "outputs": [
        {
          "output_type": "execute_result",
          "data": {
            "text/plain": [
              "array([ 20,  40,  56,  80,   5,  25,  27,  74,   1,  98,  67, 100,   8,\n",
              "        56,  34,  82, 100,   7,  78,  54,  23,  79, 100,  42,  95,  83,\n",
              "        51,  50,  47,  23, 100,  94,  25,  48,  38,  77,  90,  87,  41,\n",
              "        89,  52,   5,  17,  28,  99,  32,  18,  21,  18,  29,  31,  48,\n",
              "        62,  76,  22,   6,  65,  78,  43,  22,  38,  88,  94, 100,  77,\n",
              "        28,  39,  41,  81,  45,  54,  98,  12,  66,  88,  44,  55, 100,\n",
              "        12,  11,  17,  70,  86,  96,  56,  23,  32,  49,  70,  80,  20,\n",
              "        24,  76,  50,  29,  40,   3,   2,   5,  11,  33,  63,  28,  40,\n",
              "        51, 100,  98,  87,  22,  30,  16,  54,  78,  12,  25,  35,  10,\n",
              "        19,  67, 100,  88,  24,  33,  47,  56,  62,  34,  77,  53,  50,\n",
              "        89,  70,  72,  56,  29,  15,  20])"
            ]
          },
          "metadata": {},
          "execution_count": 8
        }
      ]
    },
    {
      "cell_type": "markdown",
      "metadata": {
        "id": "-ve1VG1XgFAV"
      },
      "source": [
        "### Задание 6\n",
        "\n",
        "Используя массив `nonzero`, определить минимальный балл за вступительный балл по всем группам."
      ]
    },
    {
      "cell_type": "code",
      "metadata": {
        "id": "ZnGg9mcUgFAV",
        "colab": {
          "base_uri": "https://localhost:8080/"
        },
        "outputId": "f0d1b823-2eaf-4736-c1ce-d94e0ca55a30"
      },
      "source": [
        "nonzero.min()"
      ],
      "execution_count": null,
      "outputs": [
        {
          "output_type": "execute_result",
          "data": {
            "text/plain": [
              "1"
            ]
          },
          "metadata": {},
          "execution_count": 9
        }
      ]
    },
    {
      "cell_type": "markdown",
      "metadata": {
        "id": "5eaQJGatgFAZ"
      },
      "source": [
        "### Задание 7\n",
        "\n",
        "Выбрать из массива `nonzero` только те значения, которые соответствуют продвинутому уровню знания языка – баллу за экзамен выше 80. Сохранить полученный результат в массив `advanced`. В заданиях 8-10 нужно работать с массивом `advanced`."
      ]
    },
    {
      "cell_type": "code",
      "metadata": {
        "id": "nmMA59fAgFAZ",
        "colab": {
          "base_uri": "https://localhost:8080/"
        },
        "outputId": "f3430d60-8718-4d6c-d39b-c8054feb74de"
      },
      "source": [
        "advanced = nonzero[nonzero > 80]\n",
        "advanced"
      ],
      "execution_count": null,
      "outputs": [
        {
          "output_type": "execute_result",
          "data": {
            "text/plain": [
              "array([ 98, 100,  82, 100, 100,  95,  83, 100,  94,  90,  87,  89,  99,\n",
              "        88,  94, 100,  81,  98,  88, 100,  86,  96, 100,  98,  87, 100,\n",
              "        88,  89])"
            ]
          },
          "metadata": {},
          "execution_count": 10
        }
      ]
    },
    {
      "cell_type": "markdown",
      "metadata": {
        "id": "Aq0Lf1f6gFAk"
      },
      "source": [
        "### Задание 8\n",
        "\n",
        "Определить размерность массива `advanced`."
      ]
    },
    {
      "cell_type": "code",
      "metadata": {
        "id": "m_9Wm-7xgFAl",
        "colab": {
          "base_uri": "https://localhost:8080/"
        },
        "outputId": "c8c44df5-7af7-4f64-ce9c-87e1f3bdd116"
      },
      "source": [
        "advanced.ndim"
      ],
      "execution_count": null,
      "outputs": [
        {
          "output_type": "execute_result",
          "data": {
            "text/plain": [
              "1"
            ]
          },
          "metadata": {},
          "execution_count": 11
        }
      ]
    },
    {
      "cell_type": "markdown",
      "metadata": {
        "id": "Bc_cX_EYgFAo"
      },
      "source": [
        "### Задание 9\n",
        "\n",
        "Определить форму массива `advanced`."
      ]
    },
    {
      "cell_type": "code",
      "metadata": {
        "id": "6VSwGB6fgFAp",
        "colab": {
          "base_uri": "https://localhost:8080/"
        },
        "outputId": "6feb67d0-d842-4e4c-9838-3d8799669ef3"
      },
      "source": [
        "advanced.shape"
      ],
      "execution_count": null,
      "outputs": [
        {
          "output_type": "execute_result",
          "data": {
            "text/plain": [
              "(28,)"
            ]
          },
          "metadata": {},
          "execution_count": 12
        }
      ]
    },
    {
      "cell_type": "markdown",
      "metadata": {
        "id": "rfufTemUgFAv"
      },
      "source": [
        "### Задание 10\n",
        "\n",
        "На основе исходного массива `scores` создать булев массив `sto`, где `True` соответствует баллам за экзамен, равным 100, а `False` – всем остальным баллам."
      ]
    },
    {
      "cell_type": "code",
      "metadata": {
        "id": "cXVCTZJRgFAw",
        "colab": {
          "base_uri": "https://localhost:8080/"
        },
        "outputId": "cd3701a9-9bc5-442b-abec-a395c8b82799"
      },
      "source": [
        "sto = (scores == 100)\n",
        "sto"
      ],
      "execution_count": null,
      "outputs": [
        {
          "output_type": "execute_result",
          "data": {
            "text/plain": [
              "array([[False, False, False, False, False, False, False, False, False,\n",
              "        False],\n",
              "       [False, False, False,  True, False, False, False, False,  True,\n",
              "        False],\n",
              "       [False, False, False, False,  True, False, False, False, False,\n",
              "        False],\n",
              "       [False, False, False, False,  True, False, False, False, False,\n",
              "        False],\n",
              "       [False, False, False, False, False, False, False, False, False,\n",
              "        False],\n",
              "       [False, False, False, False, False, False, False, False, False,\n",
              "        False],\n",
              "       [False, False, False, False, False, False, False, False, False,\n",
              "         True],\n",
              "       [False, False, False, False, False, False, False, False, False,\n",
              "        False],\n",
              "       [False, False, False, False, False, False, False,  True, False,\n",
              "        False],\n",
              "       [False, False, False, False, False, False, False, False, False,\n",
              "        False],\n",
              "       [False, False, False, False, False, False, False, False, False,\n",
              "        False],\n",
              "       [False, False, False, False, False,  True, False, False, False,\n",
              "        False],\n",
              "       [False, False, False, False, False, False, False, False, False,\n",
              "        False],\n",
              "       [ True, False, False, False, False, False, False, False, False,\n",
              "        False],\n",
              "       [False, False, False, False, False, False, False, False, False,\n",
              "        False]])"
            ]
          },
          "metadata": {},
          "execution_count": 13
        }
      ]
    },
    {
      "cell_type": "markdown",
      "metadata": {
        "id": "GBKO0EiTgFAy"
      },
      "source": [
        "### Задание 11\n",
        "\n",
        "На основе исходного массива `scores` вывести на экран оценки слушателей первых семи групп (включительно, должны быть 7 списков оценок)."
      ]
    },
    {
      "cell_type": "code",
      "metadata": {
        "id": "5MsmBdCggFA0",
        "colab": {
          "base_uri": "https://localhost:8080/"
        },
        "outputId": "0b6b045c-0c05-41e0-9211-2c16866ec4ef"
      },
      "source": [
        "scores[0:7]"
      ],
      "execution_count": null,
      "outputs": [
        {
          "output_type": "execute_result",
          "data": {
            "text/plain": [
              "array([[ 20,  40,  56,  80,   0,   5,  25,  27,  74,   1],\n",
              "       [  0,  98,  67, 100,   8,  56,  34,  82, 100,   7],\n",
              "       [ 78,  54,  23,  79, 100,   0,   0,  42,  95,  83],\n",
              "       [ 51,  50,  47,  23, 100,  94,  25,  48,  38,  77],\n",
              "       [ 90,  87,  41,  89,  52,   0,   5,  17,  28,  99],\n",
              "       [ 32,  18,  21,  18,  29,  31,  48,  62,  76,  22],\n",
              "       [  6,   0,  65,  78,  43,  22,  38,  88,  94, 100]])"
            ]
          },
          "metadata": {},
          "execution_count": 14
        }
      ]
    },
    {
      "cell_type": "markdown",
      "metadata": {
        "id": "iamUvbBDhPDy"
      },
      "source": [
        "### Задание 12\n",
        "Загрузить из файла массив `array_hw.npy` по [ссылке](https://drive.google.com/file/d/1q06WaAqjlyPuzZxQHKskGPf6S92-hJ7F/view?usp=sharing) и сохранить его как `arr`. Массив содержит объёмы продаж мороженого (в штуках) в 5 магазинах за одну неделю в июне (7 дней, с понедельника до воскресенья). В заданиях 2-5 нужно работать с массивом `arr`."
      ]
    },
    {
      "cell_type": "code",
      "execution_count": null,
      "metadata": {
        "id": "U9u6iTPqhPDy",
        "colab": {
          "base_uri": "https://localhost:8080/"
        },
        "outputId": "789ee3bb-0092-4c14-dd30-5f7d10cb2e1a"
      },
      "outputs": [
        {
          "output_type": "execute_result",
          "data": {
            "text/plain": [
              "array([[100,  80,  70,  60, 120],\n",
              "       [ 65,  55,  20,  50,  60],\n",
              "       [ 80,  90,  75,  80,  60],\n",
              "       [ 45,  60,  70,  20,  40],\n",
              "       [ 82,  47,  56,  89,  92],\n",
              "       [115, 120, 113, 106, 107],\n",
              "       [ 46,  74,  23,  34,  19]])"
            ]
          },
          "metadata": {},
          "execution_count": 16
        }
      ],
      "source": [
        "arr = np.load('array_hw.npy')\n",
        "arr"
      ]
    },
    {
      "cell_type": "markdown",
      "metadata": {
        "id": "LwTyOtAAhPDz"
      },
      "source": [
        "### Задание 13\n",
        "Если думать о массиве `arr` как о таблице, сейчас в таблице магазины идут по столбцам (1 магазин = 1 столбец, всего 5), а дни – по строкам (1 день = 1 строка, всего 7). Преобразовать массив `arr` таким образом, чтобы по строкам шли магазины, а по столбцам – дни (1 строка = 1 магазин). Сохранить изменения. Проверить, что форма массива изменилась."
      ]
    },
    {
      "cell_type": "code",
      "source": [
        "arr.shape"
      ],
      "metadata": {
        "colab": {
          "base_uri": "https://localhost:8080/"
        },
        "id": "J58pocNvRXwo",
        "outputId": "675d21a1-4e12-45ef-a269-fc4bcf42d196"
      },
      "execution_count": null,
      "outputs": [
        {
          "output_type": "execute_result",
          "data": {
            "text/plain": [
              "(7, 5)"
            ]
          },
          "metadata": {},
          "execution_count": 17
        }
      ]
    },
    {
      "cell_type": "code",
      "execution_count": null,
      "metadata": {
        "id": "8J7GimU8hPDz",
        "colab": {
          "base_uri": "https://localhost:8080/"
        },
        "outputId": "bd286288-1228-49ee-dc4e-71680053d9a0"
      },
      "outputs": [
        {
          "output_type": "execute_result",
          "data": {
            "text/plain": [
              "array([[100,  80,  70,  60, 120],\n",
              "       [ 65,  55,  20,  50,  60],\n",
              "       [ 80,  90,  75,  80,  60],\n",
              "       [ 45,  60,  70,  20,  40],\n",
              "       [ 82,  47,  56,  89,  92],\n",
              "       [115, 120, 113, 106, 107],\n",
              "       [ 46,  74,  23,  34,  19]])"
            ]
          },
          "metadata": {},
          "execution_count": 21
        }
      ],
      "source": [
        "arr = arr.transpose()\n",
        "arr"
      ]
    },
    {
      "cell_type": "code",
      "source": [
        "arr.shape"
      ],
      "metadata": {
        "colab": {
          "base_uri": "https://localhost:8080/"
        },
        "id": "nFx6a068Rbid",
        "outputId": "3acd6c6c-6331-431e-aa64-0edad2d8468b"
      },
      "execution_count": null,
      "outputs": [
        {
          "output_type": "execute_result",
          "data": {
            "text/plain": [
              "(7, 5)"
            ]
          },
          "metadata": {},
          "execution_count": 22
        }
      ]
    },
    {
      "cell_type": "markdown",
      "metadata": {
        "id": "tRVXIVMHhPDz"
      },
      "source": [
        "### Задание 14\n",
        "\n",
        "Давайте представим, что информация по продажам обновилась: оказалось, что пятый магазин в воскресенье продал не 19 порций мороженого, а 25, и второй магазин продал во вторник не 55 порций, а 65. Изменить массив `arr` в соответствии с этой информацией."
      ]
    },
    {
      "cell_type": "code",
      "execution_count": null,
      "metadata": {
        "id": "M_0BBukShPD0",
        "colab": {
          "base_uri": "https://localhost:8080/"
        },
        "outputId": "96bae54d-0be1-4711-a4d1-03752c5fac16"
      },
      "outputs": [
        {
          "output_type": "execute_result",
          "data": {
            "text/plain": [
              "array([[100,  80,  70,  60, 120],\n",
              "       [ 65,  65,  20,  50,  60],\n",
              "       [ 80,  90,  75,  80,  60],\n",
              "       [ 45,  60,  70,  20,  40],\n",
              "       [ 82,  47,  56,  89,  92],\n",
              "       [115, 120, 113, 106, 107],\n",
              "       [ 46,  74,  23,  34,  25]])"
            ]
          },
          "metadata": {},
          "execution_count": 23
        }
      ],
      "source": [
        "arr[6][4] = 25\n",
        "arr[1][1] = 65\n",
        "arr\n"
      ]
    },
    {
      "cell_type": "markdown",
      "metadata": {
        "id": "K5ItNZYZhPD0"
      },
      "source": [
        "### Задание 15\n",
        "\n",
        "Посчитать суммарный объём продаж мороженого по всем магазинам."
      ]
    },
    {
      "cell_type": "code",
      "execution_count": null,
      "metadata": {
        "id": "TnXWgwLJhPD0",
        "colab": {
          "base_uri": "https://localhost:8080/"
        },
        "outputId": "910cf9e9-d412-4a0a-953d-89298b7bc00a"
      },
      "outputs": [
        {
          "output_type": "execute_result",
          "data": {
            "text/plain": [
              "2439"
            ]
          },
          "metadata": {},
          "execution_count": 24
        }
      ],
      "source": [
        "arr.sum()"
      ]
    },
    {
      "cell_type": "markdown",
      "metadata": {
        "id": "X6o3nOPUhPD0"
      },
      "source": [
        "### Задание 16\n",
        "\n",
        "Выгрузить обновлённый массив `arr` в txt-файл. Сам txt-файл загружать в систему не нужно, только написать соответствующий код в ipynb-файл."
      ]
    },
    {
      "cell_type": "code",
      "execution_count": null,
      "metadata": {
        "id": "ac2SPTqxhPD0"
      },
      "outputs": [],
      "source": [
        "np.savetxt('arr.txt', arr)"
      ]
    },
    {
      "cell_type": "markdown",
      "metadata": {
        "id": "Ssa3W9KrhPD0"
      },
      "source": [
        "### Задание 17\n",
        "Дан массив `income`, содержащий значения прибыли магазина в тысячах на начало, середину и конец года, за четыре года подряд (значения никак не сгруппированы, можно считать, что они так выгрузились из файла).\n",
        "Изменить форму массива так, чтобы значения были сгруппированы по три значения в каждом списке внутри массива (прибыль на начало, середину и конец года)."
      ]
    },
    {
      "cell_type": "code",
      "execution_count": null,
      "metadata": {
        "id": "trkqOYAphPD0"
      },
      "outputs": [],
      "source": [
        "# массив\n",
        "income = np.array([1000, 2000, 3500,\n",
        "                   2500, 1500, 3800,\n",
        "                   1200, 9000, 12000,\n",
        "                   4500, 6700, 11000])"
      ]
    },
    {
      "cell_type": "code",
      "execution_count": null,
      "metadata": {
        "id": "NF_JI5LohPD1",
        "colab": {
          "base_uri": "https://localhost:8080/"
        },
        "outputId": "19b442f3-191b-4974-8635-4ebec665ca27"
      },
      "outputs": [
        {
          "output_type": "execute_result",
          "data": {
            "text/plain": [
              "array([[ 1000,  2000,  3500],\n",
              "       [ 2500,  1500,  3800],\n",
              "       [ 1200,  9000, 12000],\n",
              "       [ 4500,  6700, 11000]])"
            ]
          },
          "metadata": {},
          "execution_count": 29
        }
      ],
      "source": [
        "income.reshape(4,3)"
      ]
    },
    {
      "cell_type": "markdown",
      "metadata": {
        "id": "0qpLc3VEhPD1"
      },
      "source": [
        "### Задание 18\n",
        "Создать список `turnout` (*list*, не массив), содержащий следующие значения явки на избирательные участки в процентах:\n",
        "\n",
        "23.56, 45.78, 34.92, 57.34, 56.55, 67.23.\n",
        "\n",
        "Создать, используя списковые включения и встроенные, не из `NumPy`, функции для округления, новый список `turnout_r`, который состоит из округлённых до первого знака после запятой значений явки из `turnout`."
      ]
    },
    {
      "cell_type": "code",
      "execution_count": null,
      "metadata": {
        "id": "HjNiQyhdhPD1",
        "colab": {
          "base_uri": "https://localhost:8080/"
        },
        "outputId": "2e83ee2b-e570-42c3-a2e4-e1358b9179cd"
      },
      "outputs": [
        {
          "output_type": "stream",
          "name": "stdout",
          "text": [
            "[23.6, 45.8, 34.9, 57.3, 56.5, 67.2]\n"
          ]
        }
      ],
      "source": [
        "turnout = [23.56, 45.78, 34.92, 57.34, 56.55, 67.23]\n",
        "turnout_r = [round(x, 1) for x in turnout]\n",
        "print(turnout_r)"
      ]
    },
    {
      "cell_type": "markdown",
      "metadata": {
        "id": "s-GGOlEDhPD1"
      },
      "source": [
        "### Задание 19\n",
        "Выполнить те же операции, что и в предыдущей задаче, но с использованием массивов и функций `NumPy`. Другими словами, создать массив `turnout` и на его основе создать массив `turnout_r` с округлёнными до первого знака значениями явки."
      ]
    },
    {
      "cell_type": "code",
      "execution_count": null,
      "metadata": {
        "id": "rPOhpJ3RhPD1",
        "colab": {
          "base_uri": "https://localhost:8080/"
        },
        "outputId": "750e5a03-eb27-49c4-f532-6ece9f536296"
      },
      "outputs": [
        {
          "output_type": "execute_result",
          "data": {
            "text/plain": [
              "array([23.6, 45.8, 34.9, 57.3, 56.6, 67.2])"
            ]
          },
          "metadata": {},
          "execution_count": 35
        }
      ],
      "source": [
        "turnout = np.array([23.56, 45.78, 34.92, 57.34, 56.55, 67.23])\n",
        "np.round(turnout, 1)"
      ]
    },
    {
      "cell_type": "markdown",
      "metadata": {
        "id": "bjSEjzhVhPD1"
      },
      "source": [
        "### Задание 20\n",
        "\n",
        "Зайдите на [страницу](https://ru.wikipedia.org/wiki/%D0%9C%D0%B5%D0%B6%D0%B4%D1%83%D0%BD%D0%B0%D1%80%D0%BE%D0%B4%D0%BD%D1%8B%D0%B9_%D0%B8%D0%BD%D0%B4%D0%B5%D0%BA%D1%81_%D1%81%D1%87%D0%B0%D1%81%D1%82%D1%8C%D1%8F) Википедии, посвящённую Международному индексу счастья, выберите из таблицы **2012 Международный индекс счастья** любые 5 стран и любые 3 показателя и создайте структурированный массив `happy`, такой, в котором есть поле «название страны» и поля для трёх выбранных показателей. Выберите подходящий тип для каждого поля (показателя) в массиве и учтите это при создание структурированного массива. Выведите полученный массив на экран."
      ]
    },
    {
      "cell_type": "code",
      "execution_count": null,
      "metadata": {
        "id": "dlgcsRYehPD1",
        "colab": {
          "base_uri": "https://localhost:8080/"
        },
        "outputId": "7c85cbd7-9637-4ce4-cb18-1d220b98686f"
      },
      "outputs": [
        {
          "output_type": "execute_result",
          "data": {
            "text/plain": [
              "array([('Алжир', 26, 52.2, 73.1), ('Белиз',  3, 59.3, 76.1),\n",
              "       ('Австрия', 48, 47.1, 80.9), ('Кыргызстан', 38, 49.1, 67.7),\n",
              "       ('Новая Зеландия', 28, 51.6, 80.7)],\n",
              "      dtype=[('Страна', '<U15'), ('Место в списке', '<i8'), ('HPI', '<f4'), ('Ожидаемая продолжительность жизни', '<f4')])"
            ]
          },
          "metadata": {},
          "execution_count": 44
        }
      ],
      "source": [
        "happy = np.array([('Алжир', 26, 52.2, 73.1),\n",
        "        ('Белиз', 3, 59.3, 76.1),\n",
        "        ('Австрия', 48, 47.1, 80.9),\n",
        "        ('Кыргызстан', 38, 49.1, 67.7),\n",
        "        ('Новая Зеландия', 28, 51.6, 80.7)],\n",
        "        dtype=[('Страна', '<U15'),\n",
        "             ('Место в списке', int),\n",
        "             ('HPI','<f4'),\n",
        "             ('Ожидаемая продолжительность жизни','<f4')])\n",
        "happy\n",
        "\n",
        "\n"
      ]
    },
    {
      "cell_type": "markdown",
      "metadata": {
        "id": "Gm2qjoC4hPD2"
      },
      "source": [
        "### Задание 21\n",
        "Сконвертируйте полученный в предыдущей задаче структурированный массив в обычный список и выведите на экран его второй элемент."
      ]
    },
    {
      "cell_type": "code",
      "execution_count": null,
      "metadata": {
        "id": "jlzw4FYihPD2",
        "colab": {
          "base_uri": "https://localhost:8080/"
        },
        "outputId": "6ed82405-e86c-4322-aacd-3cd650b3104c"
      },
      "outputs": [
        {
          "output_type": "execute_result",
          "data": {
            "text/plain": [
              "[('Алжир', 26, 52.20000076293945, 73.0999984741211),\n",
              " ('Белиз', 3, 59.29999923706055, 76.0999984741211),\n",
              " ('Австрия', 48, 47.099998474121094, 80.9000015258789),\n",
              " ('Кыргызстан', 38, 49.099998474121094, 67.69999694824219),\n",
              " ('Новая Зеландия', 28, 51.599998474121094, 80.69999694824219)]"
            ]
          },
          "metadata": {},
          "execution_count": 45
        }
      ],
      "source": [
        "happy.tolist()"
      ]
    },
    {
      "cell_type": "markdown",
      "metadata": {
        "id": "5cwVuZHAgFA1"
      },
      "source": [
        "# Дополнительное  задание.\n",
        "\n"
      ]
    },
    {
      "cell_type": "markdown",
      "metadata": {
        "id": "RAQ4aJhfgFA5"
      },
      "source": [
        "### Задание 1\n",
        "\n",
        "Транспонировать массив `A`, не используя встроенных методов `NumPy`. Сохранить полученный массив в переменную `A_tr`. Допустимо использовать циклы и условные конструкции (при необходимости).\n",
        "\n",
        "**Напоминание:** транспонирование – операция замены строк и столбцов местами. Пример:\n",
        "\n",
        "До транспонирования:\n",
        "\n",
        "        [[2, 5, 0],\n",
        "        [7, 8, 1]]\n",
        "\n",
        "После транспонирования:\n",
        "\n",
        "        [[2, 7],\n",
        "        [5, 8],\n",
        "        [0, 1]]\n",
        "\n"
      ]
    },
    {
      "cell_type": "code",
      "metadata": {
        "id": "2HvCIIF0gFA6",
        "colab": {
          "base_uri": "https://localhost:8080/"
        },
        "outputId": "6eb37d71-0add-46ce-dff1-c68bdbbc0db6"
      },
      "source": [
        "A = [[2, 5, 0],\n",
        "    [7, 8, 1]]\n",
        "\n",
        "A_tr = []\n",
        "\n",
        "for i in range(len(A[0])):\n",
        "  new_list = []\n",
        "  for j in range(len(A)):\n",
        "    new_list.append(A[j][i])\n",
        "  A_tr.append(new_list)\n",
        "print(A_tr)"
      ],
      "execution_count": null,
      "outputs": [
        {
          "output_type": "stream",
          "name": "stdout",
          "text": [
            "[[2, 7], [5, 8], [0, 1]]\n"
          ]
        }
      ]
    },
    {
      "cell_type": "markdown",
      "metadata": {
        "id": "Rb0Np089gFA8"
      },
      "source": [
        "### Задание 2\n",
        "\n",
        "Сравнить результаты: проверить равенство полученного выше массива `A_tr` и массива, который получается транспонированием массива `A` с помощью метода `.T`.\n",
        "\n",
        "**Подсказка:** для сравнения массивов целиком, не поэлементно, можно использовать  `array_equal()`."
      ]
    },
    {
      "cell_type": "code",
      "metadata": {
        "id": "oy3tY9Y0gFA9",
        "colab": {
          "base_uri": "https://localhost:8080/"
        },
        "outputId": "a5841bf6-65d2-45ed-c419-3d2036399724"
      },
      "source": [
        "A = np.array(A)\n",
        "np.array_equal(A.T, A_tr)"
      ],
      "execution_count": null,
      "outputs": [
        {
          "output_type": "execute_result",
          "data": {
            "text/plain": [
              "True"
            ]
          },
          "metadata": {},
          "execution_count": 68
        }
      ]
    },
    {
      "cell_type": "markdown",
      "metadata": {
        "id": "0GsTgRbbgFA_"
      },
      "source": [
        "### Задание 3\n",
        "\n",
        "Студент N подрабатывает репетитором по математике и ведёт занятия разных типов: готовит к ЕГЭ, к олимпиадам, «подтягивает» математику у школьников младших классов.\n",
        "\n",
        "В массиве `classes` хранится число проведённых уроков за пять рабочих дней, в массиве `prices` — стоимость одного урока (считаем, что студент за день проводит занятия одного типа, одинаковые по стоимости).\n",
        "\n",
        "Определить доход студента за неделю, используя [метод](https://docs.scipy.org/doc/numpy/reference/generated/numpy.dot.html) `.dot()` для нахождения [скалярного произведения](https://ru.wikipedia.org/wiki/%D0%A1%D0%BA%D0%B0%D0%BB%D1%8F%D1%80%D0%BD%D0%BE%D0%B5_%D0%BF%D1%80%D0%BE%D0%B8%D0%B7%D0%B2%D0%B5%D0%B4%D0%B5%D0%BD%D0%B8%D0%B5)."
      ]
    },
    {
      "cell_type": "code",
      "metadata": {
        "id": "IHm4BAzMgFA_"
      },
      "source": [
        "classes = np.array([3, 3, 2, 0, 2])\n",
        "prices = np.array([1500, 1500, 2500, 1000, 1000])"
      ],
      "execution_count": null,
      "outputs": []
    },
    {
      "cell_type": "code",
      "metadata": {
        "id": "naNXR55mgFBD",
        "colab": {
          "base_uri": "https://localhost:8080/"
        },
        "outputId": "97ec2345-b056-4c82-c0a2-b3ab4a258e6e"
      },
      "source": [
        "np.dot(classes, prices)"
      ],
      "execution_count": null,
      "outputs": [
        {
          "output_type": "execute_result",
          "data": {
            "text/plain": [
              "16000"
            ]
          },
          "metadata": {},
          "execution_count": 50
        }
      ]
    },
    {
      "cell_type": "markdown",
      "metadata": {
        "id": "pVhH4MrAgFBH"
      },
      "source": [
        "### Задание 4\n",
        "\n",
        "По результатам работы с данными по оценкам за эссе студентов, поставленным двумя разными экспертами, были созданы два булевых массива `expert1` и `expert2`, в которых значение `True` означает оценку «удовлетворительно» и выше, а значение `False` – неудовлетворительно. Всего было оценено 15 эссе, по 5 эссе на каждую из трёх тем."
      ]
    },
    {
      "cell_type": "code",
      "metadata": {
        "id": "XvKTyCPsgFBH"
      },
      "source": [
        "expert1 = np.array([[True, False, False, True, True],\n",
        "                   [False, True, False, False, True],\n",
        "                   [True, True, True, False, False]])\n",
        "expert2 = np.array([[True, False, False, False, True],\n",
        "                   [False, False, False, False, False],\n",
        "                   [True, False, True, False, False]])"
      ],
      "execution_count": null,
      "outputs": []
    },
    {
      "cell_type": "code",
      "metadata": {
        "id": "_ItTN6kugFBI",
        "colab": {
          "base_uri": "https://localhost:8080/"
        },
        "outputId": "4053bd46-224a-4c9a-de74-7db559eefaf7"
      },
      "source": [
        "result = expert1 & expert2\n",
        "result"
      ],
      "execution_count": null,
      "outputs": [
        {
          "output_type": "execute_result",
          "data": {
            "text/plain": [
              "array([[ True, False, False, False,  True],\n",
              "       [False, False, False, False, False],\n",
              "       [ True, False,  True, False, False]])"
            ]
          },
          "metadata": {},
          "execution_count": 55
        }
      ]
    },
    {
      "cell_type": "markdown",
      "metadata": {
        "id": "SNjTSYadgFBM"
      },
      "source": [
        "### Задание 5\n",
        "\n",
        "Дан массив `essay` с итоговыми оценками студентов за эссе из задачи 4:"
      ]
    },
    {
      "cell_type": "code",
      "metadata": {
        "id": "m-0uuLMsgFBN"
      },
      "source": [
        "# pass - сдал\n",
        "# not pass - не сдал\n",
        "\n",
        "essay = np.array([[\"pass\", \"not pass\", \"not pass\", \"not pass\", \"pass\"],\n",
        "        [\"not pass\", \"not pass\", \"not pass\", \"not pass\", \"not pass\"],\n",
        "        [\"pass\", \"not pass\", \"pass\", \"not pass\", \"not pass\"]])"
      ],
      "execution_count": null,
      "outputs": []
    },
    {
      "cell_type": "markdown",
      "metadata": {
        "id": "ods6NVgWgFBO"
      },
      "source": [
        "Проверить ответ в предыдущей задаче, используя массив `essay`. Решение должно\n",
        "быть представлено в виде кода, не в виде выводов в результате явного подсчёта элементов."
      ]
    },
    {
      "cell_type": "code",
      "metadata": {
        "id": "VrnzKwKfgFBO",
        "colab": {
          "base_uri": "https://localhost:8080/"
        },
        "outputId": "b6babe14-feee-4de0-d7b9-eb50da1216dc"
      },
      "source": [
        "essay = np.where(essay == \"pass\", 1, essay )\n",
        "essay = np.where(essay == \"not pass\", 0, essay )\n",
        "essay = essay.astype(np.int8)\n",
        "essay = essay.astype(np.bool_)\n",
        "essay == result\n"
      ],
      "execution_count": null,
      "outputs": [
        {
          "output_type": "execute_result",
          "data": {
            "text/plain": [
              "array([[ True,  True,  True,  True,  True],\n",
              "       [ True,  True,  True,  True,  True],\n",
              "       [ True,  True,  True,  True,  True]])"
            ]
          },
          "metadata": {},
          "execution_count": 92
        }
      ]
    },
    {
      "cell_type": "markdown",
      "metadata": {
        "id": "O4WRS6GagFBQ"
      },
      "source": [
        "### Задание 6\n",
        "\n",
        "Используя массивы `expert1` и `expert2` из задачи 4, определить согласованность двух экспертов, используя меру близости Жаккара, которая вычисляется следующим образом:\n",
        "\n",
        "$$\n",
        "J(A, B) = \\frac{|A \\cap B|}{|A| + |B| - |A \\cap B|}\n",
        ",$$\n",
        "\n",
        "где $A$ – первое множество, $B$ – второе множество, $A \\cap B$ – пересечение множеств, т.е. их общие элементы. Запись $|A|$ означает «количество элементов в множестве».\n",
        "\n",
        "В качестве множеств $A$ и $B$ в данной задаче выступают множества (группы) студентов, которые получили зачёт у первого и второго экспертов."
      ]
    },
    {
      "cell_type": "code",
      "metadata": {
        "id": "uxsA-5kGgFBQ",
        "colab": {
          "base_uri": "https://localhost:8080/"
        },
        "outputId": "2ce7f905-64ba-4235-e316-5d37e2df518c"
      },
      "source": [
        "A =\n",
        "A"
      ],
      "execution_count": null,
      "outputs": [
        {
          "output_type": "execute_result",
          "data": {
            "text/plain": [
              "True"
            ]
          },
          "metadata": {},
          "execution_count": 5
        }
      ]
    }
  ]
}